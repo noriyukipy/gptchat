{
 "cells": [
  {
   "cell_type": "markdown",
   "metadata": {},
   "source": [
    "# GPT-2\n",
    "\n",
    "Description here."
   ]
  },
  {
   "cell_type": "markdown",
   "metadata": {},
   "source": [
    "TODO\n",
    "- Implement scheduler"
   ]
  },
  {
   "cell_type": "markdown",
   "metadata": {},
   "source": [
    "## 0. Prepare Environment"
   ]
  },
  {
   "cell_type": "markdown",
   "metadata": {},
   "source": [
    "### Install and import dependent libraries"
   ]
  },
  {
   "cell_type": "code",
   "execution_count": null,
   "metadata": {},
   "outputs": [],
   "source": [
    "import attrdict\n",
    "import transformers\n",
    "import numpy as np\n",
    "import tensorflow as tf\n",
    "import tensorflow.keras as keras\n",
    "import os"
   ]
  },
  {
   "cell_type": "markdown",
   "metadata": {},
   "source": [
    "### Define parameters\n",
    "Declare parameters set by `papermill` ."
   ]
  },
  {
   "cell_type": "code",
   "execution_count": null,
   "metadata": {
    "tags": [
     "parameters"
    ]
   },
   "outputs": [],
   "source": [
    "_params = dict(\n",
    "    data_dir=\"data_sample\",\n",
    "    output_dir=\"output\",\n",
    "\n",
    "    # model parameters\n",
    "    tokenizer_model_name=\"cl-tohoku/bert-base-japanese\",\n",
    "    n_embd=768,\n",
    "    n_layer=12,\n",
    "    n_head=12,\n",
    "    n_ctx=1024,\n",
    "\n",
    "    # training parameters\n",
    "    seed=1234,\n",
    "    num_epochs=10,\n",
    "    batch_size=2,\n",
    "    block_size=1024,\n",
    "    learning_rate=5e-5,\n",
    "    max_grad_norm=1.0,\n",
    "    warmup_rate=0.1,\n",
    "    patience=1,\n",
    ")"
   ]
  },
  {
   "cell_type": "code",
   "execution_count": null,
   "metadata": {},
   "outputs": [],
   "source": [
    "_params = attrdict.AttrDict(_params)"
   ]
  },
  {
   "cell_type": "markdown",
   "metadata": {},
   "source": [
    "### Set seed for reproducibility"
   ]
  },
  {
   "cell_type": "code",
   "execution_count": null,
   "metadata": {},
   "outputs": [],
   "source": [
    "def set_seed(seed):\n",
    "    import numpy as np\n",
    "    import tensorflow as tf\n",
    "    import random\n",
    "    import os\n",
    "\n",
    "    os.environ['PYTHONHASHSEED'] = '0'\n",
    "    np.random.seed(seed)\n",
    "    random.seed(seed)\n",
    "    tf.random.set_seed(seed)"
   ]
  },
  {
   "cell_type": "code",
   "execution_count": null,
   "metadata": {},
   "outputs": [],
   "source": [
    "set_seed(_params.seed)"
   ]
  },
  {
   "cell_type": "markdown",
   "metadata": {},
   "source": [
    "## 1. Define Problem"
   ]
  },
  {
   "cell_type": "markdown",
   "metadata": {},
   "source": [
    "## 2. Create Dataset"
   ]
  },
  {
   "cell_type": "markdown",
   "metadata": {},
   "source": [
    "## 3. Select Evaluation Metrics\n",
    "\n",
    "Perplexity"
   ]
  },
  {
   "cell_type": "markdown",
   "metadata": {},
   "source": [
    "## 4. Determine Eavaluation Protocol\n",
    "\n",
    "Hold-out validation"
   ]
  },
  {
   "cell_type": "markdown",
   "metadata": {},
   "source": [
    "## 5. Prepare Data"
   ]
  },
  {
   "cell_type": "code",
   "execution_count": null,
   "metadata": {},
   "outputs": [],
   "source": [
    "def load_dataset(path):\n",
    "    texts = []\n",
    "    for line in open(path):\n",
    "        texts.append(line.strip(\"\\n\"))\n",
    "    return texts\n",
    "\n",
    "_train_texts = load_dataset(_params.data_dir + \"/train.txt\")\n",
    "_valid_texts = load_dataset(_params.data_dir + \"/valid.txt\")\n",
    "_test_texts = load_dataset(_params.data_dir + \"/test.txt\")"
   ]
  },
  {
   "cell_type": "markdown",
   "metadata": {},
   "source": [
    "Prepare tokenizer"
   ]
  },
  {
   "cell_type": "code",
   "execution_count": null,
   "metadata": {},
   "outputs": [],
   "source": [
    "def build_tokenizer(tokenizer_model_name):\n",
    "    tokenizer = transformers.AutoTokenizer.from_pretrained(tokenizer_model_name)\n",
    "    return tokenizer"
   ]
  },
  {
   "cell_type": "code",
   "execution_count": null,
   "metadata": {},
   "outputs": [],
   "source": [
    "_tokenizer = build_tokenizer(_params.tokenizer_model_name)"
   ]
  },
  {
   "cell_type": "code",
   "execution_count": null,
   "metadata": {},
   "outputs": [],
   "source": [
    "def build_data(tokenizer, texts, block_size):\n",
    "    ids = []\n",
    "    for text in texts:\n",
    "        # Set add_special_tokens=False\n",
    "        # not to add additional special tokens.\n",
    "        tokens = tokenizer.tokenize(text)\n",
    "        ids.extend(tokenizer.convert_tokens_to_ids(tokens))\n",
    "\n",
    "    inputs = []\n",
    "    labels = []\n",
    "    for idx in range(0, len(ids)-block_size+1, block_size):\n",
    "        sample = ids[idx:idx+block_size]\n",
    "        inputs.append(sample[:-1])\n",
    "        labels.append(sample[1:])\n",
    "    return np.array(inputs), np.array(labels)"
   ]
  },
  {
   "cell_type": "code",
   "execution_count": null,
   "metadata": {},
   "outputs": [],
   "source": [
    "_x_train, _y_train = build_data(_tokenizer, _train_texts, _params.block_size)\n",
    "_x_valid, _y_valid = build_data(_tokenizer, _valid_texts, _params.block_size)\n",
    "_x_test, _y_test = build_data(_tokenizer, _valid_texts, _params.block_size)"
   ]
  },
  {
   "cell_type": "markdown",
   "metadata": {},
   "source": [
    "## 6-8. Develop and Tune Models\n",
    "\n",
    "6. Develop a model to overcome baseline model\n",
    "7. Develop a overfitting model\n",
    "8. Regularize the model and tune hyperparameters"
   ]
  },
  {
   "cell_type": "code",
   "execution_count": null,
   "metadata": {},
   "outputs": [],
   "source": [
    "def build_model(tokenizer, params):\n",
    "    config = transformers.GPT2Config(\n",
    "        vocab_size=len(tokenizer),\n",
    "        n_ctx=params.n_ctx,\n",
    "        n_positions=params.block_size,\n",
    "        n_embd=params.n_embd,\n",
    "        n_layer=params.n_layer,\n",
    "        n_head=params.n_head,\n",
    "    )\n",
    "    model = transformers.TFGPT2LMHeadModel(config=config)\n",
    "    return model"
   ]
  },
  {
   "cell_type": "code",
   "execution_count": null,
   "metadata": {
    "scrolled": false
   },
   "outputs": [],
   "source": [
    "# Read https://github.com/huggingface/transformers/issues/2169\n",
    "# to know more about how to train TFGPT2LMHead\n",
    "\n",
    "\n",
    "class WarmupScheduler(tf.keras.callbacks.Callback):\n",
    "    def __init__(self, warmup_steps, learning_rate):\n",
    "        super().__init__()\n",
    "        \n",
    "        self._warmup_steps = warmup_steps\n",
    "        self._learning_rate = learning_rate\n",
    "        \n",
    "        # The argument passed to on_train_batch_begin\n",
    "        # is resetted every epoch.\n",
    "        # self._total_steps is used to keep total step\n",
    "        self._total_steps = 0\n",
    "        \n",
    "    def on_train_batch_begin(self, step, logs=None):\n",
    "        self._total_steps += 1\n",
    "        step = self._total_steps\n",
    "\n",
    "        if step > self._warmup_steps:\n",
    "            return\n",
    "\n",
    "        # Get the current learning rate from model's optimizer.\n",
    "        lr = float(tf.keras.backend.get_value(self.model.optimizer.lr))\n",
    "        # Call schedule function to get the scheduled learning rate.\n",
    "        scheduled_lr = self._learning_rate * (step / self._warmup_steps)\n",
    "        # Set the value back to the optimizer before this epoch starts\n",
    "        tf.keras.backend.set_value(self.model.optimizer.lr, scheduled_lr)\n",
    "        print('\\nStep {}: lr is schedulerd {:.4e} -> {:.4e}]'.format(step, lr, float(tf.keras.backend.get_value(self.model.optimizer.lr))))\n",
    "\n",
    "    \n",
    "def train(params, tokenizer, x_train, y_train, x_valid, y_valid):\n",
    "    # Prepare model directory and path\n",
    "    model_save_dir = os.path.join(params.output_dir, \"model\")\n",
    "    if not os.path.exists(model_save_dir):\n",
    "        os.mkdir(model_save_dir)\n",
    "    checkpoint_model_path = os.path.join(params.output_dir, \"ckpt.h5\")\n",
    "    tensorboard_output_dir = os.path.join(params.output_dir, \"tensorboard\")\n",
    "\n",
    "    # Compile model\n",
    "    # Set from_logits=True because TFGPT2LMHeadModel returns the logits (before Softmax)\n",
    "    model = build_model(tokenizer, params)\n",
    "    loss = keras.losses.SparseCategoricalCrossentropy(from_logits=True)\n",
    "\n",
    "    # Create optimizer\n",
    "    total_steps = int(len(x_train) / params.batch_size) * params.num_epochs\n",
    "    optimizer = keras.optimizers.Adam(\n",
    "        lr=params.learning_rate,\n",
    "        beta_1=0.9,\n",
    "        beta_2=0.999,\n",
    "        epsilon=1e-08,  # default is 1e-07\n",
    "        clipnorm=params.max_grad_norm  # cilipping gradient by L2 norm\n",
    "    )\n",
    "\n",
    "    model.compile(\n",
    "        optimizer=optimizer,\n",
    "        loss=[loss, *[None] * model.config.n_layer],\n",
    "        metrics=[\n",
    "            keras.metrics.SparseCategoricalCrossentropy(from_logits=True),\n",
    "            keras.metrics.SparseCategoricalAccuracy(),\n",
    "        ],\n",
    "    )\n",
    "    \n",
    "    callbacks_list = [\n",
    "        keras.callbacks.EarlyStopping(\n",
    "            monitor=\"val_loss\",\n",
    "            patience=params.patience,\n",
    "            # EarlyStopping callback does keep the previous epoch model even if the performance gets worse.\n",
    "            # To restore the best model, load weights from checkpoint which keeps the best only.\n",
    "            restore_best_weights=False\n",
    "        ),\n",
    "        keras.callbacks.ModelCheckpoint(\n",
    "            filepath=checkpoint_model_path,\n",
    "            monitor=\"val_loss\",\n",
    "            save_best_only=True,\n",
    "        ),\n",
    "        keras.callbacks.TensorBoard(\n",
    "            log_dir=tensorboard_output_dir,\n",
    "            histogram_freq=1,\n",
    "            embeddings_freq=1,\n",
    "        ),\n",
    "        WarmupScheduler(total_steps * params.warmup_rate, params.learning_rate),\n",
    "    ]\n",
    "    \n",
    "    # Train model\n",
    "    history = model.fit(\n",
    "        {\"input_ids\": x_train},\n",
    "        y_train,\n",
    "        #epochs=_params.num_epochs,\n",
    "        epochs=1,\n",
    "        batch_size=_params.batch_size,\n",
    "        callbacks=callbacks_list,\n",
    "        validation_data=({\"input_ids\": x_valid}, y_valid),\n",
    "    )\n",
    "\n",
    "    # Restore the best model and save it as pretrained model format\n",
    "    model.load_weights(checkpoint_model_path)\n",
    "    model.save_pretrained(model_save_dir)\n",
    "    tokenizer.save_pretrained(model_save_dir)   \n",
    "\n",
    "    # Save model with best performance\n",
    "    return model\n",
    "\n",
    "\n",
    "_val_best_model = train(_params, _tokenizer, _x_train, _y_train, _x_valid, _y_valid)\n",
    "_val_best_model.summary()"
   ]
  },
  {
   "cell_type": "markdown",
   "metadata": {},
   "source": [
    "## 9. Evaluate Best Model with Validation Data"
   ]
  },
  {
   "cell_type": "code",
   "execution_count": null,
   "metadata": {},
   "outputs": [],
   "source": [
    "_val_best_model.evaluate(_x_valid, _y_valid)"
   ]
  },
  {
   "cell_type": "markdown",
   "metadata": {},
   "source": [
    "## 10. Evaluate Best Model with Validation Data"
   ]
  },
  {
   "cell_type": "code",
   "execution_count": null,
   "metadata": {},
   "outputs": [],
   "source": [
    "_val_best_model.evaluate(_x_test, _y_test)"
   ]
  }
 ],
 "metadata": {
  "celltoolbar": "Tags",
  "kernelspec": {
   "display_name": "Python 3",
   "language": "python",
   "name": "python3"
  },
  "language_info": {
   "codemirror_mode": {
    "name": "ipython",
    "version": 3
   },
   "file_extension": ".py",
   "mimetype": "text/x-python",
   "name": "python",
   "nbconvert_exporter": "python",
   "pygments_lexer": "ipython3",
   "version": "3.6.9"
  }
 },
 "nbformat": 4,
 "nbformat_minor": 4
}
