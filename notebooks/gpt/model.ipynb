{
 "cells": [
  {
   "cell_type": "markdown",
   "metadata": {},
   "source": [
    "# GPT-2\n",
    "\n",
    "Description here."
   ]
  },
  {
   "cell_type": "markdown",
   "metadata": {},
   "source": [
    "## Install dependent libraries\n",
    "This section installs required package. Version should be specified for reproducibility."
   ]
  },
  {
   "cell_type": "code",
   "execution_count": null,
   "metadata": {
    "scrolled": true
   },
   "outputs": [],
   "source": [
    "! pip install transformers==2.6.0\n",
    "! pip install tqdm==4.43.0\n",
    "! pip install mecab-python3==0.996.2\n",
    "! pip install attrdict==2.0.1\n",
    "! pip install tensorboard==2.1.1"
   ]
  },
  {
   "cell_type": "markdown",
   "metadata": {},
   "source": [
    "## Parameters\n",
    "Declare parameters set by `papermill` ."
   ]
  },
  {
   "cell_type": "code",
   "execution_count": null,
   "metadata": {
    "tags": [
     "parameters"
    ]
   },
   "outputs": [],
   "source": [
    "# general parameters\n",
    "name = \"test\"\n",
    "data_dir = \"./data_sample/\"\n",
    "output_dir =\"./output/\"\n",
    "\n",
    "# model parameters\n",
    "n_embd=768\n",
    "n_layer=12\n",
    "n_head=12\n",
    "n_ctx=1024\n",
    "\n",
    "# training parameters\n",
    "seed=1234\n",
    "num_epochs=30\n",
    "batch_size=2\n",
    "block_size=1024\n",
    "learning_rate=5e-5\n",
    "max_grad_norm=1.0\n",
    "warmup_rate=0.1\n",
    "patience = 3"
   ]
  },
  {
   "cell_type": "code",
   "execution_count": null,
   "metadata": {},
   "outputs": [],
   "source": [
    "import attrdict\n",
    "\n",
    "params = attrdict.AttrDict({\n",
    "    \"name\": name,\n",
    "    \"data_dir\": data_dir,\n",
    "    \"output_dir\": output_dir,\n",
    "    \"n_embd\": n_embd,\n",
    "    \"n_layer\": n_layer,\n",
    "    \"n_head\": n_head,\n",
    "    \"n_ctx\": n_ctx,\n",
    "    \"seed\": seed,\n",
    "    \"num_epochs\": num_epochs,\n",
    "    \"batch_size\": batch_size,\n",
    "    \"block_size\": block_size,\n",
    "    \"learning_rate\": learning_rate,\n",
    "    \"max_grad_norm\": max_grad_norm,\n",
    "    \"warmup_rate\": warmup_rate,\n",
    "    \"patience\": patience,\n",
    "})\n",
    "\n",
    "del name\n",
    "del data_dir\n",
    "del output_dir\n",
    "del n_embd\n",
    "del n_layer\n",
    "del n_head\n",
    "del n_ctx\n",
    "del seed\n",
    "del num_epochs\n",
    "del batch_size\n",
    "del block_size\n",
    "del learning_rate\n",
    "del max_grad_norm\n",
    "del warmup_rate\n",
    "del patience"
   ]
  },
  {
   "cell_type": "markdown",
   "metadata": {},
   "source": [
    "## Test library\n",
    "\n",
    "Test your all the libraries used in this notebook."
   ]
  },
  {
   "cell_type": "markdown",
   "metadata": {},
   "source": [
    "## Preprocessor and tokenizer"
   ]
  },
  {
   "cell_type": "code",
   "execution_count": null,
   "metadata": {},
   "outputs": [],
   "source": [
    "import transformers\n",
    "\n",
    "\n",
    "def build_tokenizer():\n",
    "    return transformers.BertJapaneseTokenizer.from_pretrained(\"bert-base-japanese\")"
   ]
  },
  {
   "cell_type": "markdown",
   "metadata": {},
   "source": [
    "## Dataset"
   ]
  },
  {
   "cell_type": "code",
   "execution_count": null,
   "metadata": {},
   "outputs": [],
   "source": [
    "import torch\n",
    "\n",
    "\n",
    "class Dataset(torch.utils.data.Dataset):\n",
    "    def __init__(self, tokenizer, texts, block_size):\n",
    "        ids = []\n",
    "        for text in texts:\n",
    "            # Set add_special_tokens=False\n",
    "            # not to add additional special tokens.\n",
    "            tokens = tokenizer.tokenize(text)\n",
    "            ids.extend(tokenizer.convert_tokens_to_ids(tokens))\n",
    "\n",
    "        inputs = []\n",
    "        for idx in range(0, len(ids)-block_size+1, block_size):\n",
    "            inputs.append(ids[idx:idx+block_size])\n",
    "\n",
    "        self._inputs = inputs\n",
    "\n",
    "    def __len__(self):\n",
    "        return len(self._inputs)\n",
    "\n",
    "    def __getitem__(self, item):\n",
    "        return torch.tensor(self._inputs[item])\n",
    "\n",
    "\n",
    "def build_dataloader(tokenizer, texts, batch_size, block_size, shuffle):\n",
    "    data_set = Dataset(tokenizer, texts, block_size=block_size)\n",
    "    data_loader = torch.utils.data.DataLoader(\n",
    "        data_set,\n",
    "        batch_size=batch_size,\n",
    "        shuffle=shuffle,\n",
    "    )\n",
    "    return data_loader"
   ]
  },
  {
   "cell_type": "markdown",
   "metadata": {},
   "source": [
    "## Model"
   ]
  },
  {
   "cell_type": "markdown",
   "metadata": {},
   "source": [
    "## Train model"
   ]
  },
  {
   "cell_type": "code",
   "execution_count": null,
   "metadata": {},
   "outputs": [],
   "source": [
    "import torch\n",
    "import numpy as np\n",
    "import random\n",
    "\n",
    "\n",
    "def set_seed(seed):\n",
    "    random.seed(seed)\n",
    "    np.random.seed(seed)\n",
    "    torch.manual_seed(seed)\n",
    "    # When use GPU\n",
    "    torch.cuda.manual_seed_all(seed)\n",
    "    torch.backends.cudnn.deterministic = True\n",
    "    torch.backends.cudnn.benchmark = False"
   ]
  },
  {
   "cell_type": "code",
   "execution_count": null,
   "metadata": {},
   "outputs": [],
   "source": [
    "import tqdm\n",
    "\n",
    "\n",
    "def train_model(net, config, tokenizer, dataloader_dict, train_config):\n",
    "    PHASE_TRAIN = \"train\"\n",
    "    PHASE_VAL = \"val\"\n",
    "    \n",
    "    # keep the best model\n",
    "    best_model = None\n",
    "    best_epoch = 0\n",
    "    best_metric = {\"loss\": float(\"infinity\")}\n",
    "    \n",
    "    # 学習イテレーションの回数を保持\n",
    "    num_iters = 0\n",
    "    \n",
    "    # keep the count which the validation metric does not improved\n",
    "    num_patience = 0\n",
    "        \n",
    "    net.to(train_config.device)\n",
    "    \n",
    "    for epoch in range(train_config.num_epochs+1):\n",
    "        print(\"Epoch {}/{}\".format(epoch, train_config.num_epochs))\n",
    "        # 学習と検証のループ\n",
    "        for phase in [PHASE_TRAIN, PHASE_VAL]:\n",
    "            # フェーズによってネットワークのモードを変更する\n",
    "            # Dropout等の挙動に影響あり\n",
    "            if phase == PHASE_TRAIN:\n",
    "                net.train()\n",
    "            elif phase == PHASE_VAL:\n",
    "                net.eval()\n",
    "            else:\n",
    "                raise Exception(\"got {} expected one of {}\".format(phase, [PHASE_TRAIN, PHASE_VAL]))\n",
    "                \n",
    "            epoch_loss = 0\n",
    "            \n",
    "            # 未学習時の検証性能を確かめる\n",
    "            if epoch == 0 and phase == PHASE_TRAIN:\n",
    "                continue\n",
    "                \n",
    "            # for batch in tqdm.tqdm(dataloader_dict[phase], disable=True):\n",
    "            for batch in tqdm.tqdm(dataloader_dict[phase], disable=False):\n",
    "\n",
    "                # GPUが使える場合はGPUにデータを送る\n",
    "                inputs = batch.to(train_config.device)\n",
    "\n",
    "                # Initialize optimizer\n",
    "                train_config.optimizer.zero_grad()\n",
    "                \n",
    "                # set_grad_enabled(phrase==\"train\") で\n",
    "                # 学習時のみ勾配計算できるようにグラフ作成する\n",
    "                with torch.set_grad_enabled(phase==PHASE_TRAIN):\n",
    "                    # labelsを指定することでlossを計算する\n",
    "                    loss, _, _ = net(inputs, labels=inputs)\n",
    "                    \n",
    "                    if phase == PHASE_TRAIN:\n",
    "                        loss.backward()\n",
    "                        torch.nn.utils.clip_grad_norm_(net.parameters(), train_config.max_grad_norm)\n",
    "                        train_config.optimizer.step()\n",
    "                        train_config.scheduler.step()\n",
    "\n",
    "                        num_iters += 1\n",
    "\n",
    "                    # epoch loss を更新\n",
    "                    epoch_loss += loss.item() * inputs.size()[0]\n",
    "\n",
    "                    # TensorBoardへの描画を行う\n",
    "                    # 学習時のみlossを描画\n",
    "                    if phase == PHASE_TRAIN:\n",
    "                        train_config.writer.add_scalars(\"train/loss\", {PHASE_TRAIN: loss.item()}, num_iters)\n",
    "                        train_config.writer.add_scalars(\"train/lr\", {PHASE_TRAIN: train_config.scheduler.get_lr()[0]}, num_iters)\n",
    "\n",
    "            epoch_loss = epoch_loss / len(dataloader_dict[phase].dataset)\n",
    "            print(\"phase {}, loss: {:.4f}\".format(phase, epoch_loss))\n",
    "            \n",
    "            if phase == PHASE_VAL:\n",
    "                train_config.writer.add_scalars(\"train/loss\", {PHASE_VAL: epoch_loss}, num_iters)\n",
    "                \n",
    "                if best_metric[\"loss\"] > epoch_loss:\n",
    "                    best_model = net\n",
    "                    best_metric = {\"loss\": epoch_loss}\n",
    "                    best_epoch = epoch\n",
    "                    num_patience = 0\n",
    "                    # save model\n",
    "                    print(\"Save model, epoch:\", epoch)\n",
    "                    save_dir = os.path.join(train_config.model_output_dir, \"epoch-{}\".format(epoch))\n",
    "                    mkdir(save_dir)\n",
    "\n",
    "                    # [TODO] Save vocab dict\n",
    "                    net.save_pretrained(save_dir)\n",
    "                    tokenizer.save_pretrained(save_dir)\n",
    "                    config.save_pretrained(save_dir)\n",
    "                else:\n",
    "                    num_patience += 1\n",
    "                    print(\"Patience {}, epoch: {}\".format(num_patience, epoch))\n",
    "                    \n",
    "                if num_patience > train_config.patience:\n",
    "                    return best_model, best_metric, best_epoch\n",
    "    return best_model, best_metric, best_epoch"
   ]
  },
  {
   "cell_type": "code",
   "execution_count": null,
   "metadata": {},
   "outputs": [],
   "source": [
    "import os\n",
    "from torch.utils.tensorboard import SummaryWriter\n",
    "\n",
    "\n",
    "\n",
    "def get_texts(filepath):\n",
    "    return [line.strip(\"\\n\") for line in open(filepath)]\n",
    "\n",
    "\n",
    "def mkdir(path):\n",
    "    if not os.path.exists(path):\n",
    "        os.mkdir(path)\n",
    "\n",
    "    \n",
    "def train(params):\n",
    "    # Fix seed for reproducability\n",
    "    set_seed(seed=params.seed)\n",
    "    \n",
    "    # create directory to save model\n",
    "    model_output_dir = os.path.join(params.output_dir, params.name)\n",
    "    mkdir(model_output_dir)\n",
    "    \n",
    "    # Dataset and dataloader\n",
    "    tokenizer = build_tokenizer()  \n",
    "    dataloader_dict = {\n",
    "        \"train\": build_dataloader(tokenizer, get_texts(params.data_dir + \"/train.txt\"), params.batch_size, params.block_size, shuffle=True),\n",
    "        \"val\": build_dataloader(tokenizer, get_texts(params.data_dir + \"/valid.txt\"), params.batch_size, params.block_size, shuffle=False),\n",
    "    }\n",
    "    \n",
    "    # Model\n",
    "    config = transformers.GPT2Config(\n",
    "        vocab_size=len(tokenizer),\n",
    "        n_ctx=params.n_ctx,\n",
    "        n_positions=params.block_size,\n",
    "        n_embd=params.n_embd,\n",
    "        n_layer=params.n_layer,\n",
    "        n_head=params.n_head,\n",
    "        num_labels=1,  # binary label to classify whether generated sentence is valid or not.\n",
    "    )\n",
    "    net = transformers.GPT2LMHeadModel(config=config)\n",
    "    assert config.n_ctx == config.n_positions == params.n_ctx == params.block_size\n",
    "\n",
    "    # create train config\n",
    "    optimizer = torch.optim.Adam(net.parameters(),  lr=params.learning_rate)\n",
    "    total_steps = len(dataloader_dict[\"train\"]) * params.num_epochs\n",
    "    scheduler = transformers.get_linear_schedule_with_warmup(\n",
    "        optimizer,\n",
    "        num_warmup_steps=total_steps*params.warmup_rate,\n",
    "        num_training_steps=total_steps\n",
    "    )\n",
    "    train_config = attrdict.AttrDict({\n",
    "        \"model_output_dir\": model_output_dir,\n",
    "        \"optimizer\": optimizer,\n",
    "        \"scheduler\": scheduler,\n",
    "        \"writer\": SummaryWriter(log_dir=params.output_dir + \"/runs/\" + params.name),\n",
    "        \"num_epochs\": params.num_epochs,\n",
    "        \"max_grad_norm\": params.max_grad_norm,\n",
    "        \"patience\": params.patience,\n",
    "        \"device\": torch.device(\"cuda:0\" if torch.cuda.is_available() else \"cpu\"),\n",
    "    })\n",
    "    \n",
    "    # print(net)\n",
    "    return train_model(net, config, tokenizer, dataloader_dict, train_config)"
   ]
  },
  {
   "cell_type": "code",
   "execution_count": null,
   "metadata": {
    "scrolled": true
   },
   "outputs": [],
   "source": [
    "best_model, best_metric, best_epoch = train(params)"
   ]
  },
  {
   "cell_type": "markdown",
   "metadata": {},
   "source": [
    "## Evaluate model"
   ]
  },
  {
   "cell_type": "code",
   "execution_count": null,
   "metadata": {},
   "outputs": [],
   "source": [
    "print(\"Best model in epoch\", best_epoch)\n",
    "print(\"Scores:\", best_metric)"
   ]
  }
 ],
 "metadata": {
  "celltoolbar": "Tags",
  "kernelspec": {
   "display_name": "Python 3",
   "language": "python",
   "name": "python3"
  },
  "language_info": {
   "codemirror_mode": {
    "name": "ipython",
    "version": 3
   },
   "file_extension": ".py",
   "mimetype": "text/x-python",
   "name": "python",
   "nbconvert_exporter": "python",
   "pygments_lexer": "ipython3",
   "version": "3.6.9"
  }
 },
 "nbformat": 4,
 "nbformat_minor": 4
}
